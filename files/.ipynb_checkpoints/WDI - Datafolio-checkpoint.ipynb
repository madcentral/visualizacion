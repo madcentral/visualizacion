{
 "cells": [
  {
   "cell_type": "markdown",
   "metadata": {},
   "source": [
    "# Datafolio"
   ]
  },
  {
   "cell_type": "markdown",
   "metadata": {},
   "source": [
    "Para mayor información sobre los datos a analizar consulte  el siguiente [enlace.](https://datacatalog.worldbank.org/dataset/world-development-indicators)"
   ]
  },
  {
   "cell_type": "code",
   "execution_count": 5,
   "metadata": {},
   "outputs": [],
   "source": [
    "#Importando librerías que tal vez pueda utilizar\n",
    "import pandas as pd\n",
    "import numpy as np\n",
    "import matplotlib.pyplot as plt\n",
    "import seaborn as sns\n",
    "import statsmodels.formula.api as sm\n",
    "import warnings\n",
    "\n",
    "warnings.filterwarnings(\"ignore\")  # Elimina las advertencias"
   ]
  },
  {
   "cell_type": "markdown",
   "metadata": {},
   "source": [
    "El archivo `WDIData` contiene información de muchos indicadores de los países y regiones del mundo desde el año 1960, es notable que hay una gran cantidad de datos `NaN` ya que no ha sido posible recolectar la misma información en todos los países de igual manera.\n",
    "\n",
    "El documento `WDISeries` contiene información más detallada del indicador presente en el archivo `WDIData`.\n",
    "\n",
    "En la tabla `WDICountry` se muestra información relevante de cada uno de los países."
   ]
  },
  {
   "cell_type": "markdown",
   "metadata": {},
   "source": [
    "# Ejercicio 1\n",
    "\n",
    "Haga una lista de todos los temas ('Topic') que hay en el archivo   `WDISeries`, seleccione un sub-tema, por ejemplo, el tema general puede ser 'Environment' y el sub-tema 'Land use' y agregue una columna a `WDISeries` cuyo valor sea el sub-tema elegido, si no es del sub-tema elegido ponga el valor `NaN`."
   ]
  },
  {
   "cell_type": "markdown",
   "metadata": {},
   "source": [
    "# Ejercicio 2\n",
    "Cree una nueva base de datos que contenga el histórico de todos los sucesos de su sub-tema por países y regiones. Llámela `sub-tema_df`. Trate esta nueva base de datos para que sea más legible y limpie, de ser necesario, la base."
   ]
  },
  {
   "cell_type": "markdown",
   "metadata": {},
   "source": [
    "# Ejercicio 3\n",
    "Divida la base de datos resultante del ejercicio anterior en dos, `sub-tema_C_df` y `sub-tema_R_df`, la primera tendrá la información por países y la segunda por regiones.\n",
    "\n",
    "*Ayuda:* Use el archivo `WDICountry`para hacer la separación adecuada, la columna 'Regions' será de gran utilidad."
   ]
  },
  {
   "cell_type": "markdown",
   "metadata": {},
   "source": [
    "# Ejercicio 4\n",
    "La base de datos aún conserva valores un poco difíciles de leer, remplace los valores de la columna 'Indicator code' por una descripción un poco más amena para el lector. "
   ]
  },
  {
   "cell_type": "markdown",
   "metadata": {},
   "source": [
    "# Ejercicio 5\n",
    "Es aquí donde su creatividad será puesta a prueba, pues ya tiene una base de datos en buenas condiciones para representar gráficamente muchísima información, pero no se cohiba, si quiere puede agregar más columnas de los demás archivos para hacer más y graficos más específicos.\n",
    "\n",
    "*Sugerencia:* Grafique la distribución de las variables obtenidas, el comparativo entre regiones, como también entre los países que más aportan, las diferencias entre los países con ingresos altos medios y bajos, no se le sugiere más porque usted debe ser el creativo.\n",
    "\n",
    "Recuerde la información debe ser relevante, fácil de leer y puede emplear las diferentes librerías vistas hasta ahora para hacer de su datafolio el mejor."
   ]
  },
  {
   "cell_type": "code",
   "execution_count": null,
   "metadata": {},
   "outputs": [],
   "source": []
  }
 ],
 "metadata": {
  "kernelspec": {
   "display_name": "Python 3",
   "language": "python",
   "name": "python3"
  },
  "language_info": {
   "codemirror_mode": {
    "name": "ipython",
    "version": 3
   },
   "file_extension": ".py",
   "mimetype": "text/x-python",
   "name": "python",
   "nbconvert_exporter": "python",
   "pygments_lexer": "ipython3",
   "version": "3.8.3"
  },
  "latex_envs": {
   "LaTeX_envs_menu_present": true,
   "autoclose": false,
   "autocomplete": true,
   "bibliofile": "biblio.bib",
   "cite_by": "apalike",
   "current_citInitial": 1,
   "eqLabelWithNumbers": true,
   "eqNumInitial": 1,
   "hotkeys": {
    "equation": "Ctrl-E",
    "itemize": "Ctrl-I"
   },
   "labels_anchors": false,
   "latex_user_defs": false,
   "report_style_numbering": false,
   "user_envs_cfg": false
  },
  "toc": {
   "base_numbering": 1,
   "nav_menu": {
    "height": "119px",
    "width": "160px"
   },
   "number_sections": true,
   "sideBar": true,
   "skip_h1_title": true,
   "title_cell": "Table of Contents",
   "title_sidebar": "Contents",
   "toc_cell": false,
   "toc_position": {},
   "toc_section_display": true,
   "toc_window_display": false
  }
 },
 "nbformat": 4,
 "nbformat_minor": 4
}
