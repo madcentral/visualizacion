{
 "cells": [
  {
   "cell_type": "markdown",
   "id": "latter-costume",
   "metadata": {},
   "source": [
    "# Despliegue de un modelo de clasificación supervisada con Dash\n",
    "\n",
    "Como vimos en las clases anteriores Dash resulta ser una heramienta elemental para hacer despliegues en la web respecto a la exploración de datos. Sin embargo, si quisieramos hacer análisis predictivos o clasificaciones a partir de modelos que vayamos entrenando. Hoy exploraremos algunos ejemplos en los cuales el dashboard no solo presenta información obtenida de la data sino que permite hacer algo un poco más sofisticado, desplegar los modelos que hemos creado."
   ]
  },
  {
   "cell_type": "markdown",
   "id": "motivated-implement",
   "metadata": {},
   "source": [
    "## Un recorderis... Solo si hace falta\n",
    "\n",
    "Las aplicaciones Dash se componen de dos partes. La primera parte es el \"Layout\" (diseño) de la aplicación y describe cómo se ve la aplicación. La segunda parte describe la interactividad de la aplicación. Dash proporciona clases de Python para todos los componentes visuales de la aplicación. Mantenemos un conjunto de componentes en la biblioteca dash_core_components y dash_html_components, pero también puede crear los suyos propios con JavaScript y React.js.\n",
    "\n",
    "El paquete jupyter-dash facilita el desarrollo de aplicaciones Plotly Dash desde Jupyter Notebook y JupyterLab.\n",
    "\n",
    "Simplemente reemplace la clase estándar dash.Dash con la subclase jupyter_dash.JupyterDash."
   ]
  },
  {
   "cell_type": "code",
   "execution_count": 1,
   "id": "mediterranean-taxation",
   "metadata": {},
   "outputs": [],
   "source": [
    "import dash_core_components as dcc\n",
    "import dash_html_components as html\n",
    "import plotly.express as px\n",
    "import pandas as pd\n",
    "from jupyter_dash import JupyterDash\n",
    "\n",
    "external_stylesheets = ['https://codepen.io/chriddyp/pen/bWLwgP.css']\n",
    "\n",
    "app2=JupyterDash(__name__,external_stylesheets=external_stylesheets)\n",
    "df = pd.DataFrame({\n",
    "    \"Fruit\": [\"Apples\", \"Oranges\", \"Bananas\", \"Apples\", \"Oranges\", \"Bananas\"],\n",
    "    \"Amount\": [4, 1, 2, 2, 4, 5],\n",
    "    \"City\": [\"SF\", \"SF\", \"SF\", \"Montreal\", \"Montreal\", \"Montreal\"]\n",
    "})#Base de datos a utilizar\n",
    "\n",
    "#figura creada con plotly.express\n",
    "fig = px.bar(df, x=\"Fruit\", y=\"Amount\", color=\"City\", barmode=\"group\")\n",
    "\n",
    "#diseño del app\n",
    "app2.layout = html.Div(children=[\n",
    "    html.H1(children='Encabezado'),\n",
    "\n",
    "    html.Div(children='''\n",
    "        Mi primera app con Dash, un as bajo la manga de la visulaización de datos.\n",
    "    '''),\n",
    "\n",
    "    dcc.Graph(\n",
    "        figure=fig\n",
    "    )\n",
    "])"
   ]
  },
  {
   "cell_type": "code",
   "execution_count": 3,
   "id": "convinced-sitting",
   "metadata": {},
   "outputs": [
    {
     "data": {
      "text/html": [
       "\n",
       "        <iframe\n",
       "            width=\"100%\"\n",
       "            height=\"650\"\n",
       "            src=\"http://127.0.0.1:8050/\"\n",
       "            frameborder=\"0\"\n",
       "            allowfullscreen\n",
       "        ></iframe>\n",
       "        "
      ],
      "text/plain": [
       "<IPython.lib.display.IFrame at 0x7fd85de304f0>"
      ]
     },
     "metadata": {},
     "output_type": "display_data"
    }
   ],
   "source": [
    "app2.run_server(mode=\"inline\")"
   ]
  },
  {
   "cell_type": "markdown",
   "id": "ideal-kazakhstan",
   "metadata": {},
   "source": [
    "Corra la aplicación usando run_server. A diferencia del método estándar `Dash.run_server `, el método `JupyterDash.run_server` no bloquea la ejecución del cuaderno, sino que corre la aplicación en un hilo en segundo plano, lo que permite ejecutar otros cálculos mientras la aplicación se está ejecutando.\n",
    "\n",
    "Esto hace posible actualizar iterativamente la aplicación sin volver a ejecutar los pasos de procesamiento de datos potencialmente costosos."
   ]
  },
  {
   "cell_type": "markdown",
   "id": "infectious-jefferson",
   "metadata": {},
   "source": [
    "## Callbacks\n",
    "\n",
    "Atrás se vio que con app.layout se describe cómo se ve la aplicación usando un árbol jerárquico de componentes. La biblioteca dash_html_components proporciona clases para todas las etiquetas HTML, y los argumentos de las palabras clave describen los atributos HTML como style, className e id. La biblioteca dash_core_components genera componentes de nivel superior como controles y gráficos.\n",
    "\n",
    "Este capítulo describe cómo crear sus aplicaciones Dash usando funciones de devolución de llamada: Funciones de Python que son llamadas automáticamente por Dash cada vez que cambia la propiedad de un componente de entrada.\n",
    "\n",
    "Comencemos con un ejemplo simple de una aplicación Dash interactiva."
   ]
  },
  {
   "cell_type": "code",
   "execution_count": 4,
   "id": "everyday-demand",
   "metadata": {},
   "outputs": [],
   "source": [
    "import dash\n",
    "from jupyter_dash import JupyterDash\n",
    "import dash_core_components as dcc\n",
    "import dash_html_components as html\n",
    "from dash.dependencies import Input, Output\n",
    "\n",
    "external_stylesheets = ['https://codepen.io/chriddyp/pen/bWLwgP.css']\n",
    "\n",
    "app = JupyterDash(__name__,external_stylesheets=external_stylesheets)\n",
    "\n",
    "app.layout = html.Div([\n",
    "    html.H6(\"¡Cambie el valor en el cuadro de texto para ver los callback en acción!\"),\n",
    "    html.Div([\"Input: \",\n",
    "              dcc.Input(id='my-input', value='Una cadena de texto', type='text')]),\n",
    "    html.Br(),\n",
    "    dcc.Graph(id='my-output'),\n",
    "\n",
    "])\n",
    "@app.callback(\n",
    "    Output(component_id='my-output', component_property='figure'),\n",
    "    [Input(component_id='my-input', component_property='value')]\n",
    ")\n",
    "def actualiza(input_value):\n",
    "    L=list(set(input_value))\n",
    "    L2=[input_value.count(i) for i in L]\n",
    "    df=pd.DataFrame({\"L\":L,\"L2\":L2})\n",
    "    fig = px.bar(df, x=\"L\", y=\"L2\")\n",
    "    return fig"
   ]
  },
  {
   "cell_type": "code",
   "execution_count": 5,
   "id": "dutch-switch",
   "metadata": {},
   "outputs": [
    {
     "data": {
      "text/html": [
       "\n",
       "        <iframe\n",
       "            width=\"100%\"\n",
       "            height=\"650\"\n",
       "            src=\"http://127.0.0.1:11211/\"\n",
       "            frameborder=\"0\"\n",
       "            allowfullscreen\n",
       "        ></iframe>\n",
       "        "
      ],
      "text/plain": [
       "<IPython.lib.display.IFrame at 0x7fd85d818d60>"
      ]
     },
     "metadata": {},
     "output_type": "display_data"
    }
   ],
   "source": [
    "app.run_server(debug=True,port=\"11211\",mode=\"inline\")"
   ]
  },
  {
   "cell_type": "markdown",
   "id": "sweet-example",
   "metadata": {},
   "source": [
    "Analicemos este ejemplo:\n",
    "\n",
    "1. Las \"entradas\" y \"salidas\" de la interfaz de nuestra aplicación se describen declarativamente como los argumentos del decorador @app.callback.\n",
    "\n",
    "       1. Al escribir este decorador, le estamos diciendo a Dash que llame a esta función por nosotros siempre que el valor del componente \"entrada\" (el cuadro de texto) cambie para actualizar los hijos del componente \"salida\" en la página (el div HTML ).\n",
    "\n",
    "        2. Puede usar cualquier nombre para la función dentro del decorador @app.callback. La convención es que el nombre describe la(s) salida(s) de devolución de llamada.\n",
    "\n",
    "        3. Puede usar cualquier nombre para los argumentos de la función, pero debe usar los mismos nombres dentro de la función de devolución de llamada que usa en su definición, al igual que en una función Python normal. Los argumentos son posicionales: primero los elementos de entrada y luego los elementos de estado se dan en el mismo orden que en el decorador.\n",
    "\n",
    "        4. Debe usar la misma identificación que le dio a un componente Dash en el app.layout cuando se refiere a él como una entrada o salida del decorador @app.callback.\n",
    "\n",
    "        5. El decorador @app.callback debe estar directamente encima de la declaración del mismo. Si hay una línea en blanco entre el decorador y la definición de la función, el registro de devolución de llamada no se realizará correctamente.\n",
    "\n",
    "        6. Si tiene curiosidad acerca de lo que significa la sintaxis del decorador bajo el capó, puede leer esta respuesta de StackOverflow y aprender más sobre decoradores leyendo PEP 318 - Decoradores para funciones y métodos.\n",
    "        \n",
    "        \n",
    "\n",
    "2. En Dash, las entradas y salidas de nuestra aplicación son simplemente las propiedades de un componente en particular. En este ejemplo, nuestra entrada es la propiedad \"value\" del componente que tiene el ID \"my-input\". Nuestra salida es la propiedad \"children\" del componente con el ID \"my-output\".\n",
    "3. Siempre que cambie una propiedad de entrada, la función que envuelve el decorador se llamará automáticamente. Dash proporciona a la función el nuevo valor de la propiedad de entrada como argumento de entrada y Dash actualiza la propiedad del componente de salida con lo que devolvió la función.\n",
    " 4. Los keywords  component_id y component_property son opcionales (solo hay dos argumentos para cada uno de esos objetos). Se incluyen en este ejemplo para mayor claridad, pero se omitirán en el resto de la documentación por motivos de brevedad y legibilidad.\n",
    "5. No confunda el objeto dash.dependencies.Input y el objeto dash_core_components.Input. El primero solo se usa en callbacks mientras el último es un componente real.\n",
    "6. Observe que, cómo no establecemos un valor para la propiedad secundaria del componente my-output en el diseño. Cuando se inicia la aplicación Dash, automáticamente llama a todas las devoluciones de llamada con los valores iniciales de los componentes de entrada para completar el estado inicial de los componentes de salida. En este ejemplo, si especificaste algo como html.Div (id = 'my-output', children = 'Hello world'), se sobrescribirá cuando se inicie la aplicación.\n"
   ]
  },
  {
   "cell_type": "markdown",
   "id": "productive-liverpool",
   "metadata": {},
   "source": [
    "## Primer modelo\n",
    "\n",
    "Aprovechemos el ejemplo anterior para poner a correr nuestro primer modelo: \n",
    "***\n",
    "**¿De donde es tu apellido?**\n",
    "***\n",
    "\n",
    "Usemos la siguiente base para lograrlo:"
   ]
  },
  {
   "cell_type": "code",
   "execution_count": null,
   "id": "incorporate-capital",
   "metadata": {},
   "outputs": [],
   "source": []
  }
 ],
 "metadata": {
  "kernelspec": {
   "display_name": "Python 3",
   "language": "python",
   "name": "python3"
  },
  "language_info": {
   "codemirror_mode": {
    "name": "ipython",
    "version": 3
   },
   "file_extension": ".py",
   "mimetype": "text/x-python",
   "name": "python",
   "nbconvert_exporter": "python",
   "pygments_lexer": "ipython3",
   "version": "3.8.5"
  }
 },
 "nbformat": 4,
 "nbformat_minor": 5
}
